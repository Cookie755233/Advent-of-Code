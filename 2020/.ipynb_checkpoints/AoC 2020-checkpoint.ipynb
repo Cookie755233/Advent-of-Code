{
 "cells": [
  {
   "cell_type": "markdown",
   "id": "b4ff906a",
   "metadata": {},
   "source": [
    "# AoC 2020 Day 6"
   ]
  },
  {
   "cell_type": "code",
   "execution_count": null,
   "id": "1c7376a0",
   "metadata": {},
   "outputs": [],
   "source": [
    "f = open('./2020_06.in').read().split('\\n\\n')\n",
    "ans_1 = ans_2 = 0\n",
    "for group in f:\n",
    "    l1 = []ss\n",
    "    for i in [list(set(i)) for i in group.split()]:\n",
    "        for n in i:\n",
    "            if n not in l1:\n",
    "                l1.append(n) \n",
    "    ans_1 += len(l1)\n",
    "    \n",
    "    l2 = []\n",
    "    for i in l1:\n",
    "        if all([i in li for li in group.split()]):\n",
    "            l2.append(i)\n",
    "    \n",
    "    ans_2 += len(l2)\n",
    "    \n",
    "    \n",
    "print(ans_1, ans_2)"
   ]
  },
  {
   "cell_type": "markdown",
   "id": "cc06975e",
   "metadata": {},
   "source": [
    "# AoC 2020 Day 7"
   ]
  },
  {
   "cell_type": "code",
   "execution_count": 65,
   "id": "fbb4bdad",
   "metadata": {},
   "outputs": [
    {
     "name": "stdout",
     "output_type": "stream",
     "text": [
      "248 57281\n"
     ]
    }
   ],
   "source": [
    "f = open('./2020_07.in').read().split('\\n')\n",
    "import re\n",
    "from collections import defaultdict\n",
    "\n",
    "bags = defaultdict(dict)\n",
    "for l in f:\n",
    "    parent = re.match(r'(.*) bags contain', l).groups()[0]\n",
    "    for n, color in re.findall(r'(\\d+) (\\w+ \\w+) bag', l):\n",
    "        bags[parent][color] = int(n)\n",
    "        \n",
    "def part1():\n",
    "    answer = set()\n",
    "    def search(color):\n",
    "        for b in bags:\n",
    "            if color in bags[b]:\n",
    "                answer.add(b)\n",
    "                search(b)\n",
    "    search('shiny gold')\n",
    "    return len(answer)\n",
    "\n",
    "def part2():\n",
    "    def search(bag):\n",
    "        count = 1\n",
    "        for s in bags[bag]:\n",
    "            multiplier = bags[bag][s]\n",
    "            count += multiplier * search(s)\n",
    "        return count\n",
    "    return search('shiny gold' ) - 1  # Remove one for shiny gold itself\n",
    "\n",
    "print(part1(), part2())"
   ]
  },
  {
   "cell_type": "markdown",
   "id": "647ac54e",
   "metadata": {},
   "source": [
    "# AoC 2020 Day 8"
   ]
  },
  {
   "cell_type": "code",
   "execution_count": 19,
   "id": "c826601b",
   "metadata": {},
   "outputs": [
    {
     "name": "stdout",
     "output_type": "stream",
     "text": [
      "Part 1 1521\n",
      "Part 2 1016\n",
      "Wall time: 10.9 ms\n"
     ]
    }
   ],
   "source": [
    "%%time\n",
    "lines = []\n",
    "f = open('./2020_08.in').read().split('\\n') \n",
    "for line in f:\n",
    "    line = line.rstrip().split(' ')\n",
    "    lines.append([line[0], int(line[1])])\n",
    "\n",
    "\n",
    "def move(lines, part_1=False):\n",
    "    seen = set()\n",
    "    accumulator = 0\n",
    "    idx = 0\n",
    "    while True:\n",
    "        if idx >= len(lines):\n",
    "            return accumulator\n",
    "        move, arg = lines[idx]\n",
    "        if idx in seen:\n",
    "            return accumulator if part_1 else False\n",
    "        seen.add(idx)\n",
    "        if move == 'nop':\n",
    "            idx += 1\n",
    "        elif move == 'acc':\n",
    "            accumulator += arg\n",
    "            idx += 1\n",
    "        elif move == \"jmp\":\n",
    "            idx += arg\n",
    "\n",
    "\n",
    "def flip(val):\n",
    "    return 'jmp' if val == 'nop' else 'nop'\n",
    "\n",
    "\n",
    "def change_piece(lines):\n",
    "    for idx, turn in enumerate(lines):\n",
    "        if turn[0] == 'nop' or turn[0] == 'jmp':\n",
    "            prev = turn[0]\n",
    "            lines[idx][0] = flip(turn[0])\n",
    "            if accumulator:= move(lines):\n",
    "                return accumulator\n",
    "            lines[idx][0] = prev\n",
    "\n",
    "print(\"Part 1\", move(lines, True))\n",
    "print(\"Part 2\", change_piece(lines))"
   ]
  },
  {
   "cell_type": "code",
   "execution_count": null,
   "id": "2cf23b5a",
   "metadata": {},
   "outputs": [],
   "source": []
  }
 ],
 "metadata": {
  "kernelspec": {
   "display_name": "Python 3 (ipykernel)",
   "language": "python",
   "name": "python3"
  },
  "language_info": {
   "codemirror_mode": {
    "name": "ipython",
    "version": 3
   },
   "file_extension": ".py",
   "mimetype": "text/x-python",
   "name": "python",
   "nbconvert_exporter": "python",
   "pygments_lexer": "ipython3",
   "version": "3.10.0"
  }
 },
 "nbformat": 4,
 "nbformat_minor": 5
}
