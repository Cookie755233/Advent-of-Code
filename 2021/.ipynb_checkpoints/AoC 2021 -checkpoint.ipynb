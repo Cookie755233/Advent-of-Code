{
 "cells": [
  {
   "cell_type": "markdown",
   "id": "fb1d861a",
   "metadata": {},
   "source": [
    "# Day 07"
   ]
  },
  {
   "cell_type": "code",
   "execution_count": null,
   "id": "a7f5c44c",
   "metadata": {},
   "outputs": [],
   "source": [
    "%%time\n",
    "import numpy as np\n",
    "\n",
    "f = open('./data_06.in').read().split(',')\n",
    "numbers = np.array([int(i) for i in f])\n",
    "\n",
    "# PART I \n",
    "median = np.median(numbers)\n",
    "ans_1 = 0\n",
    "\n",
    "for i in numbers:\n",
    "    ans_1 += abs(median-i)\n",
    "    \n",
    "print(f'Answer 1: {ans_1}')\n",
    "\n",
    "\n",
    "# PART II\n",
    "ans_2 = np.Inf\n",
    "for i in range(2000):\n",
    "    score = 0\n",
    "    for n in numbers:\n",
    "        d = abs(n-i)\n",
    "        score += d*(d+1)/2\n",
    "    ans_2 = min(ans_2, score)\n",
    "        \n",
    "print(f'Answer 2: {ans_2}')\n",
    "    "
   ]
  },
  {
   "cell_type": "code",
   "execution_count": null,
   "id": "20b577a6",
   "metadata": {},
   "outputs": [],
   "source": [
    "%%time\n",
    "# PART II ALTERNITIVES\n",
    "f = open('./data_06.in').read().split(',')\n",
    "numbers = np.array([int(i) for i in f])\n",
    "                    \n",
    "n = len(numbers)\n",
    "mean_floor = sum(numbers//n)\n",
    "mean_ceil = -( -sum(numbers)//n )\n",
    "                    \n",
    "ans1 = ans2 = 0\n",
    "for i in numbers:\n",
    "    move1 = abs(mean_floor - i)\n",
    "    ans1 += round((move1/2)*(move1+1))\n",
    "    \n",
    "    move2 = abs(mean_ceil - i)\n",
    "    ans2 += round((move2/2)*(move2+1))\n",
    "\n",
    "print(f'Ans 2: {min(ans1, ans2)}')"
   ]
  },
  {
   "cell_type": "markdown",
   "id": "7bf10d19",
   "metadata": {},
   "source": [
    "# Day 08"
   ]
  },
  {
   "cell_type": "code",
   "execution_count": null,
   "id": "0eec051a",
   "metadata": {},
   "outputs": [],
   "source": [
    "from itertools import permutations\n",
    "\n",
    "f = open('./data_07.in').read().split('\\n')\n",
    "\n",
    "d = {\n",
    "    \"abcefg\": 0,\n",
    "    \"cf\": 1,\n",
    "    \"acdeg\": 2,\n",
    "    \"acdfg\": 3,\n",
    "    \"bcdf\": 4,\n",
    "    \"abdfg\": 5,\n",
    "    \"abdefg\": 6,\n",
    "    \"acf\": 7,\n",
    "    \"abcdefg\": 8,\n",
    "    \"abcdfg\": 9,\n",
    "}\n",
    "\n",
    "\n",
    "part_1 = 0\n",
    "part_2 = 0\n",
    "for line in f:\n",
    "    a, b = line.split(\" | \")\n",
    "    a = a.split()\n",
    "    b = b.split()\n",
    "    part_1 += sum(len(code) in {2, 3, 4, 7} for code in b)\n",
    "    for permutation in permutations(\"abcdefg\"):\n",
    "        to = str.maketrans(\"abcdefg\", \"\".join(permutation))\n",
    "        a_ = [\"\".join(sorted(code.translate(to))) for code in a]\n",
    "        b_ = [\"\".join(sorted(code.translate(to))) for code in b]\n",
    "        if all(code in d for code in a_):\n",
    "            part_2 += int(\"\".join(str(d[code]) for code in b_))\n",
    "            break\n",
    "\n",
    "    \n",
    "print(f'Ans 1: {part_1}')\n",
    "print(f'Ans 2: {part_2}')"
   ]
  },
  {
   "cell_type": "markdown",
   "id": "d1ac3b95",
   "metadata": {},
   "source": [
    "# Day 09"
   ]
  },
  {
   "cell_type": "code",
   "execution_count": null,
   "id": "77ea5d2f",
   "metadata": {},
   "outputs": [],
   "source": [
    "from functools import reduce\n",
    "\n",
    "f = open('./data_09.in').read().split('\\n')\n",
    "l = [[int(j)for j in str(i)] for i in f]\n",
    "\n",
    "low_points = basins =  []\n",
    "\n",
    "def basin_size(n, i, j, seen):\n",
    "    dirs = [(i+1, j), (i-1, j), (i, j+1), (i, j-1)]\n",
    "\n",
    "    for r, c in dirs:\n",
    "        if 0<=r<len(l) and 0<=c<len(l[0]):\n",
    "            if n < l[r][c] < 9:\n",
    "                seen.add((r, c))\n",
    "                basin_size(l[r][c], r, c, seen)\n",
    "                \n",
    "    return len(seen)+1  # include itself\n",
    "\n",
    "\n",
    "    \n",
    "for i in range(len(l)):\n",
    "    for j in range(len(l[0])):\n",
    "        dirs = [(i+1, j), (i-1, j), (i, j+1), (i, j-1)]\n",
    "        \n",
    "        # Part 1\n",
    "        if all( [l[i][j] < l[r][c] for r,c in dirs if 0<=r<len(l) and 0<=c<len(l[0])] ):\n",
    "            low_points.append(l[i][j])\n",
    "            \n",
    "            # Part 2\n",
    "            seen = set()\n",
    "            basin = basin_size(l[i][j], i, j, seen)\n",
    "            basins.append(basin)\n",
    "\n",
    "basins.sort(reverse=True)\n",
    "\n",
    "ans1 = sum([int(i)+1 for i in low_points])\n",
    "ans2 = reduce(lambda x, y: x*y, basins[0:3])\n",
    "    \n",
    "print(f'Answer 1: {ans1}') \n",
    "print(f'Answer 2: {ans2}')"
   ]
  },
  {
   "cell_type": "code",
   "execution_count": null,
   "id": "4195ec8b",
   "metadata": {},
   "outputs": [],
   "source": []
  }
 ],
 "metadata": {
  "kernelspec": {
   "display_name": "Python 3 (ipykernel)",
   "language": "python",
   "name": "python3"
  },
  "language_info": {
   "codemirror_mode": {
    "name": "ipython",
    "version": 3
   },
   "file_extension": ".py",
   "mimetype": "text/x-python",
   "name": "python",
   "nbconvert_exporter": "python",
   "pygments_lexer": "ipython3",
   "version": "3.10.0"
  }
 },
 "nbformat": 4,
 "nbformat_minor": 5
}
