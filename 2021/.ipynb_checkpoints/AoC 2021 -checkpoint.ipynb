{
 "cells": [
  {
   "cell_type": "markdown",
   "id": "fb1d861a",
   "metadata": {},
   "source": [
    "# Day 06"
   ]
  },
  {
   "cell_type": "code",
   "execution_count": 35,
   "id": "a7f5c44c",
   "metadata": {},
   "outputs": [
    {
     "name": "stdout",
     "output_type": "stream",
     "text": [
      "Answer 1: 323647.0\n",
      "Answer 2: 87640209.0\n"
     ]
    }
   ],
   "source": [
    "import numpy as np\n",
    "\n",
    "f = open('./data_06.in').read().split(',')\n",
    "numbers = np.array([int(i) for i in f])\n",
    "\n",
    "# PART I \n",
    "median = np.median(numbers)\n",
    "ans_1 = 0\n",
    "\n",
    "for i in numbers:\n",
    "    ans_1 += abs(median-i)\n",
    "    \n",
    "print(f'Answer 1: {ans_1}')\n",
    "\n",
    "\n",
    "# PART II\n",
    "ans_2 = np.Inf\n",
    "for i in range(2000):\n",
    "    score = 0\n",
    "    for n in numbers:\n",
    "        d = abs(n-i)\n",
    "        score += d*(d+1)/2\n",
    "    ans_2 = min(ans_2, score)\n",
    "        \n",
    "print(f'Answer 2: {ans_2}')\n",
    "    "
   ]
  },
  {
   "cell_type": "markdown",
   "id": "7bf10d19",
   "metadata": {},
   "source": [
    "# Day 07"
   ]
  },
  {
   "cell_type": "code",
   "execution_count": null,
   "id": "0eec051a",
   "metadata": {},
   "outputs": [],
   "source": [
    "f = open('./data_06.in').read().split(',')\n"
   ]
  }
 ],
 "metadata": {
  "kernelspec": {
   "display_name": "Python 3 (ipykernel)",
   "language": "python",
   "name": "python3"
  },
  "language_info": {
   "codemirror_mode": {
    "name": "ipython",
    "version": 3
   },
   "file_extension": ".py",
   "mimetype": "text/x-python",
   "name": "python",
   "nbconvert_exporter": "python",
   "pygments_lexer": "ipython3",
   "version": "3.10.0"
  }
 },
 "nbformat": 4,
 "nbformat_minor": 5
}
